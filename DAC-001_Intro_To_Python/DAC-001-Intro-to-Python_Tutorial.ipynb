{
 "cells": [
  {
   "cell_type": "code",
   "execution_count": 4,
   "metadata": {},
   "outputs": [
    {
     "name": "stdout",
     "output_type": "stream",
     "text": [
      "['orange', 'banana', 'tomato']\n"
     ]
    }
   ],
   "source": [
    "#Question 1\n",
    "\n",
    "List1 = ['apple','orange','banana']\n",
    "List1.append('tomato')\n",
    "List1.remove('apple')\n",
    "print(List1)"
   ]
  },
  {
   "cell_type": "code",
   "execution_count": 15,
   "metadata": {},
   "outputs": [
    {
     "data": {
      "text/plain": [
       "5"
      ]
     },
     "execution_count": 15,
     "metadata": {},
     "output_type": "execute_result"
    }
   ],
   "source": [
    "#Question 2\n",
    "\n",
    "Subjects = ['physics','chemistry','english','math','biology']\n",
    "Listtuple=tuple(Subjects)\n",
    "type(Listtuple)\n",
    "\n",
    "#unable to append new value due to tuple being unchangeable\n",
    "#change tuple to list, append then change back\n",
    "\n",
    "len(Listtuple)\n"
   ]
  },
  {
   "cell_type": "code",
   "execution_count": 25,
   "metadata": {},
   "outputs": [
    {
     "name": "stdout",
     "output_type": "stream",
     "text": [
      "[3, 6, 7, 8, 9, 10]\n",
      "[]\n"
     ]
    }
   ],
   "source": [
    "#Question 3\n",
    "\n",
    "student_id = [10,6,7,8,9,3]\n",
    "sorted_students_id=sorted(student_id)\n",
    "print(sorted_students_id)\n",
    "\n",
    "sorted_students_id.clear()\n",
    "\n",
    "print(sorted_students_id)\n"
   ]
  },
  {
   "cell_type": "code",
   "execution_count": 29,
   "metadata": {},
   "outputs": [
    {
     "name": "stdout",
     "output_type": "stream",
     "text": [
      "[15, 12, 9, 6, 3]\n"
     ]
    }
   ],
   "source": [
    "#Question 4\n",
    "\n",
    "desc_list=list(range(15,0,-3))\n",
    "print(desc_list)"
   ]
  },
  {
   "cell_type": "code",
   "execution_count": 30,
   "metadata": {},
   "outputs": [
    {
     "name": "stdout",
     "output_type": "stream",
     "text": [
      "[2, 4, 6, 8, 10, 12, 14, 16, 18, 20, 22, 24, 26, 28]\n"
     ]
    }
   ],
   "source": [
    "#Question 5\n",
    "\n",
    "asc_list=list(range(2,30,2))\n",
    "print(asc_list)"
   ]
  },
  {
   "cell_type": "code",
   "execution_count": 35,
   "metadata": {},
   "outputs": [
    {
     "name": "stdout",
     "output_type": "stream",
     "text": [
      "[2, 3, 4, 6, 6, 8, 9, 10, 12, 12, 14, 15, 16, 18, 20, 22, 24, 26, 28]\n",
      "[2, 4, 6, 6, 8, 10, 12, 12, 14, 16, 18, 20, 22, 24, 26, 28]\n",
      "[3, 9, 15]\n"
     ]
    }
   ],
   "source": [
    "#Question 6\n",
    "\n",
    "combined_list=asc_list+desc_list\n",
    "combined_list.sort()\n",
    "print(combined_list)\n",
    "\n",
    "even_num = []\n",
    "odd_num = []\n",
    "\n",
    "for num in combined_list:\n",
    "    if num % 2 == 0:\n",
    "        even_num.append(num)\n",
    "    else:\n",
    "        odd_num.append(num)\n",
    "\n",
    "print(even_num)\n",
    "print(odd_num)\n"
   ]
  },
  {
   "cell_type": "code",
   "execution_count": 37,
   "metadata": {},
   "outputs": [
    {
     "name": "stdout",
     "output_type": "stream",
     "text": [
      "18.857142857142858\n"
     ]
    }
   ],
   "source": [
    "#Question 7\n",
    "\n",
    "def circle_properties(radius):\n",
    "    circumference = radius * 2 * 22/7 \n",
    "    return circumference\n",
    "\n",
    "get_circumference = circle_properties(3)\n",
    "\n",
    "print(get_circumference)"
   ]
  },
  {
   "cell_type": "code",
   "execution_count": 54,
   "metadata": {},
   "outputs": [
    {
     "name": "stdout",
     "output_type": "stream",
     "text": [
      "Question: How are you feeling?\n",
      "Im feeling: T^T\n"
     ]
    }
   ],
   "source": [
    "#Question 8\n",
    "\n",
    "import random\n",
    "def make_face():\n",
    "    responses = ['._.','-.-','=3=','o.o','oWo','T^T',';-;']\n",
    "    return random.choice(responses)\n",
    "\n",
    "generate_face = 'How are you feeling?'\n",
    "answer = make_face()\n",
    "print(f'Question: {generate_face}')\n",
    "print(f'Im feeling: {answer}')\n"
   ]
  },
  {
   "cell_type": "code",
   "execution_count": 42,
   "metadata": {},
   "outputs": [
    {
     "name": "stdout",
     "output_type": "stream",
     "text": [
      "{'Alice': 88, 'Bob': 90, 'Charlie': 78, 'David': 88}\n"
     ]
    }
   ],
   "source": [
    "#Question 9\n",
    "\n",
    "student_grades = {\"Alice\": 85, \"Bob\": 90,\"Charlie\": 78}\n",
    "student_grades['David'] = 88\n",
    "\n",
    "student_grades[\"Alice\"] = 88\n",
    "\n",
    "print(student_grades)\n"
   ]
  },
  {
   "cell_type": "code",
   "execution_count": 52,
   "metadata": {},
   "outputs": [
    {
     "name": "stdout",
     "output_type": "stream",
     "text": [
      "{'apple': 3, 'banana': 2, 'orange': 1}\n"
     ]
    }
   ],
   "source": [
    "#Question 10\n",
    "\n",
    "fruits = [\"apple\", \"banana\", \"apple\", \"orange\", \"banana\", \"apple\"]\n",
    "fruit_count = {}\n",
    "\n",
    "for fruit in fruits:\n",
    "    if fruit in fruit_count:\n",
    "        fruit_count[fruit] = fruit_count[fruit] + 1\n",
    "    else:\n",
    "        fruit_count[fruit] = 1\n",
    "\n",
    "print(fruit_count)\n"
   ]
  },
  {
   "cell_type": "code",
   "execution_count": null,
   "metadata": {},
   "outputs": [],
   "source": []
  }
 ],
 "metadata": {
  "kernelspec": {
   "display_name": ".venv",
   "language": "python",
   "name": "python3"
  },
  "language_info": {
   "codemirror_mode": {
    "name": "ipython",
    "version": 3
   },
   "file_extension": ".py",
   "mimetype": "text/x-python",
   "name": "python",
   "nbconvert_exporter": "python",
   "pygments_lexer": "ipython3",
   "version": "3.11.9"
  }
 },
 "nbformat": 4,
 "nbformat_minor": 2
}
